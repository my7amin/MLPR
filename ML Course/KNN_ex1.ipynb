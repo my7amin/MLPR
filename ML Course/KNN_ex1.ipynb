{
  "nbformat": 4,
  "nbformat_minor": 0,
  "metadata": {
    "colab": {
      "name": "KNN-ex1.ipynb",
      "provenance": []
    },
    "kernelspec": {
      "name": "python3",
      "display_name": "Python 3"
    },
    "language_info": {
      "name": "python"
    }
  },
  "cells": [
    {
      "cell_type": "code",
      "metadata": {
        "colab": {
          "base_uri": "https://localhost:8080/"
        },
        "id": "ymPitPkVTiw9",
        "outputId": "6b4da38b-1c57-4ac2-c923-bb8d2b32066c"
      },
      "source": [
        "#importing required models\n",
        "import pandas as pd\n",
        "import numpy as np\n",
        "from sklearn.model_selection import train_test_split\n",
        "from sklearn.preprocessing import StandardScaler\n",
        "from sklearn.neighbors import KNeighborsClassifier\n",
        "from sklearn.metrics import classification_report, accuracy_score\n",
        "from sklearn.datasets import load_iris\n",
        "\n",
        "\n",
        "#read dataframe\n",
        "\n",
        "df = load_iris()\n",
        "\n",
        "#target and input variable selection\n",
        "X = df.data\n",
        "y = df.target\n",
        "\n",
        "#do train test split\n",
        "X_train, X_test, y_train, y_test = train_test_split(X, y, test_size = 0.2)\n",
        "\n",
        "#Standardizing the data\n",
        "sc = StandardScaler()\n",
        "X_train_scaled = sc.fit_transform(X_train)\n",
        "X_test_scaled = sc.transform(X_test)\n",
        "\n",
        "#creating model with random value of K\n",
        "knn = KNeighborsClassifier(n_neighbors=5, metric='minkowski', p=2)\n",
        "model= knn.fit(X_train_scaled, y_train)\n",
        "\n",
        "#making prediction\n",
        "pred = model.predict(X_test_scaled)\n",
        "\n",
        "#checking accuracy of model\n",
        "print(classification_report(y_test, pred))"
      ],
      "execution_count": null,
      "outputs": [
        {
          "output_type": "stream",
          "name": "stdout",
          "text": [
            "              precision    recall  f1-score   support\n",
            "\n",
            "           0       1.00      1.00      1.00        11\n",
            "           1       1.00      0.85      0.92        13\n",
            "           2       0.75      1.00      0.86         6\n",
            "\n",
            "    accuracy                           0.93        30\n",
            "   macro avg       0.92      0.95      0.92        30\n",
            "weighted avg       0.95      0.93      0.94        30\n",
            "\n"
          ]
        }
      ]
    },
    {
      "cell_type": "code",
      "metadata": {
        "id": "JD3WzJfWX67F"
      },
      "source": [
        ""
      ],
      "execution_count": null,
      "outputs": []
    },
    {
      "cell_type": "code",
      "metadata": {
        "colab": {
          "base_uri": "https://localhost:8080/",
          "height": 295
        },
        "id": "Fr8P3ItSUwGl",
        "outputId": "c8d1ed3c-b34c-41ba-be79-065041f89e62"
      },
      "source": [
        "# How to select the best value of K\n",
        "\n",
        "\n",
        "import matplotlib.pyplot as plt\n",
        "error = []\n",
        "for k in range(1,50):\n",
        "    knn = KNeighborsClassifier(n_neighbors=k, metric='minkowski', p=2)\n",
        "    model= knn.fit(X_train_scaled, y_train)\n",
        "    pred = model.predict(X_test_scaled)\n",
        "    error.append(np.mean(pred != y_test))\n",
        "                         \n",
        "#plotting graph of error vs value of k                         \n",
        "plt.plot(range(1, 50), error)\n",
        "plt.xlabel(\"K\")\n",
        "plt.ylabel(\"Error\")\n",
        "plt.title(\"Best estimation of k \")\n",
        "plt.show()"
      ],
      "execution_count": null,
      "outputs": [
        {
          "output_type": "display_data",
          "data": {
            "image/png": "[encoded data removed]",
            "text/plain": [
              "<Figure size 432x288 with 1 Axes>"
            ]
          },
          "metadata": {
            "needs_background": "light"
          }
        }
      ]
    },
    {
      "cell_type": "code",
      "metadata": {
        "colab": {
          "base_uri": "https://localhost:8080/"
        },
        "id": "uui36_dDU8bM",
        "outputId": "eec2a953-817a-475f-91c7-5bec0725de50"
      },
      "source": [
        "knn = KNeighborsClassifier(n_neighbors=11)\n",
        "model= knn.fit(X_train_scaled, y_train)\n",
        "\n",
        "#making prediction\n",
        "pred = model.predict(X_test_scaled)\n",
        "\n",
        "#checking accuracy of model\n",
        "print(classification_report(y_test, pred))"
      ],
      "execution_count": null,
      "outputs": [
        {
          "output_type": "stream",
          "name": "stdout",
          "text": [
            "              precision    recall  f1-score   support\n",
            "\n",
            "           0       1.00      1.00      1.00        11\n",
            "           1       1.00      1.00      1.00         8\n",
            "           2       1.00      1.00      1.00        11\n",
            "\n",
            "    accuracy                           1.00        30\n",
            "   macro avg       1.00      1.00      1.00        30\n",
            "weighted avg       1.00      1.00      1.00        30\n",
            "\n"
          ]
        }
      ]
    }
  ]
}